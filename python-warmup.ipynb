# PYTHON
# write a function that takes an input, subtracts 1 from it, squares it,
# and subtracts 1 again, then run the code below:

# write function here


def math_fxn(x): 
    return (int(x)-1)**2 -1
x = 10
y = math_fxn(x)
z = math_fxn(y)
print('The value for x is:', x, ' (should be 10)')
print('The value for y is:', y, ' (should be 80)')
print('The value for z is:', z, ' (should be 6240)')